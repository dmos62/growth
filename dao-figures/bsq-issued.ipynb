{
 "cells": [
  {
   "cell_type": "raw",
   "metadata": {},
   "source": [
    "Processes `voteResultsHistory.json` into proposals and cycles and exports those to respective CSVs. The proposals specify which cycle index they belong to (cycleIndex)."
   ]
  },
  {
   "cell_type": "code",
   "execution_count": 27,
   "metadata": {},
   "outputs": [],
   "source": [
    "using Pkg;"
   ]
  },
  {
   "cell_type": "code",
   "execution_count": null,
   "metadata": {},
   "outputs": [],
   "source": [
    "Pkg.add(\"DataFrames\");\n",
    "Pkg.add(\"JSON\");\n",
    "Pkg.add(\"CSV\");\n",
    "Pkg.add(\"NamedTupleTools\");\n",
    "Pkg.add(\"Lazy\");"
   ]
  },
  {
   "cell_type": "code",
   "execution_count": 3,
   "metadata": {},
   "outputs": [],
   "source": [
    "using DataFrames;\n",
    "import JSON;\n",
    "using Lazy: @>, @>>, @as"
   ]
  },
  {
   "cell_type": "code",
   "execution_count": 1,
   "metadata": {},
   "outputs": [
    {
     "ename": "LoadError",
     "evalue": "UndefVarError: JSON not defined",
     "output_type": "error",
     "traceback": [
      "UndefVarError: JSON not defined",
      "",
      "Stacktrace:",
      " [1] top-level scope at In[1]:3"
     ]
    }
   ],
   "source": [
    "# voteResultsHistory.json is exported in the software under DAO governance section\n",
    "dao_proposals_file = \"voteResultsHistory.json\"\n",
    "json = open(JSON.parse, dao_proposals_file, write=false);"
   ]
  },
  {
   "cell_type": "code",
   "execution_count": 32,
   "metadata": {},
   "outputs": [],
   "source": [
    "a_cycle = @> json first;\n",
    "a_proposal = @> a_cycle get(\"proposals\", missing) first;\n",
    "a_vote = @> a_proposal get(\"votes\", missing) first;"
   ]
  },
  {
   "cell_type": "code",
   "execution_count": null,
   "metadata": {},
   "outputs": [],
   "source": [
    "a_cycle"
   ]
  },
  {
   "cell_type": "code",
   "execution_count": null,
   "metadata": {},
   "outputs": [],
   "source": [
    "a_proposal"
   ]
  },
  {
   "cell_type": "code",
   "execution_count": null,
   "metadata": {},
   "outputs": [],
   "source": [
    "a_vote"
   ]
  },
  {
   "cell_type": "code",
   "execution_count": 5,
   "metadata": {},
   "outputs": [],
   "source": [
    "delete_keys!(d, keys) = begin\n",
    "    for k in keys delete!(d, k) end\n",
    "    return d\n",
    "end\n",
    "parse_proposal(proposal, cycleIndex) = begin\n",
    "    # drop some keys to conserve memory\n",
    "    delete_keys!(proposal, [\"votes\",\"proposal.txId\",\"proposal.role.uid\"])\n",
    "    # persist proposal's cycle\n",
    "    proposal[\"cycleIndex\"] = cycleIndex\n",
    "    return proposal\n",
    "end;"
   ]
  },
  {
   "cell_type": "code",
   "execution_count": 6,
   "metadata": {},
   "outputs": [],
   "source": [
    "function parse_cycle(cycle)\n",
    "    index = cycle[\"cycleIndex\"]\n",
    "    proposals = map(p -> parse_proposal(p, index), cycle[\"proposals\"])\n",
    "    return (index = index, startTime = cycle[\"startTime\"], proposals = proposals)\n",
    "end;"
   ]
  },
  {
   "cell_type": "code",
   "execution_count": 7,
   "metadata": {},
   "outputs": [],
   "source": [
    "cycles = map(parse_cycle, json);"
   ]
  },
  {
   "cell_type": "code",
   "execution_count": 8,
   "metadata": {},
   "outputs": [],
   "source": [
    "cycles_df = @>> cycles map(c -> (index=c.index, startTime=c.startTime)) DataFrame;"
   ]
  },
  {
   "cell_type": "code",
   "execution_count": 9,
   "metadata": {},
   "outputs": [],
   "source": [
    "proposals = begin\n",
    "    proposals_grouped = map(c -> c.proposals, cycles)\n",
    "    vcat(proposals_grouped...)\n",
    "end;"
   ]
  },
  {
   "cell_type": "code",
   "execution_count": 10,
   "metadata": {},
   "outputs": [],
   "source": [
    "using NamedTupleTools: namedtuple;\n",
    "string_dict_to_namedtuple(d) = namedtuple(Symbol.(keys(d)), values(d));"
   ]
  },
  {
   "cell_type": "code",
   "execution_count": 11,
   "metadata": {},
   "outputs": [],
   "source": [
    "missing_keys = @>> proposals map(keys) reduce(union);"
   ]
  },
  {
   "cell_type": "code",
   "execution_count": 12,
   "metadata": {},
   "outputs": [],
   "source": [
    "add_key_if_missing(d, k) = get!(d, k, missing)\n",
    "add_missing_keys(p, missing_keys) = begin\n",
    "    @>> missing_keys foreach(k -> add_key_if_missing(p,k))\n",
    "    p\n",
    "end\n",
    "\n",
    "df = @>> begin\n",
    "    proposals\n",
    "    map(p -> add_missing_keys(p, missing_keys))\n",
    "    map(string_dict_to_namedtuple)\n",
    "    DataFrame\n",
    "end;"
   ]
  },
  {
   "cell_type": "code",
   "execution_count": 13,
   "metadata": {},
   "outputs": [],
   "source": [
    "get_rid_of_dots(s) = replace(s, \".\" => \"_\")\n",
    "get_rid_of_symbol_dots(sy) = @> sy string get_rid_of_dots\n",
    "rename!(get_rid_of_symbol_dots, df);"
   ]
  },
  {
   "cell_type": "code",
   "execution_count": 14,
   "metadata": {},
   "outputs": [],
   "source": [
    "import CSV;\n",
    "\n",
    "proposals_output_path = \"bisq-proposals.csv\"\n",
    "CSV.write(proposals_output_path, df)\n",
    "\n",
    "cycles_output_path = \"bisq-cycles.csv\"\n",
    "CSV.write(cycles_output_path, cycles_df);"
   ]
  }
 ],
 "metadata": {
  "kernelspec": {
   "display_name": "Julia 1.4.0",
   "language": "julia",
   "name": "julia-1.4"
  },
  "language_info": {
   "file_extension": ".jl",
   "mimetype": "application/julia",
   "name": "julia",
   "version": "1.4.0"
  }
 },
 "nbformat": 4,
 "nbformat_minor": 4
}
